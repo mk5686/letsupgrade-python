{
  "nbformat": 4,
  "nbformat_minor": 0,
  "metadata": {
    "kernelspec": {
      "display_name": "Python 3",
      "language": "python",
      "name": "python3"
    },
    "language_info": {
      "codemirror_mode": {
        "name": "ipython",
        "version": 3
      },
      "file_extension": ".py",
      "mimetype": "text/x-python",
      "name": "python",
      "nbconvert_exporter": "python",
      "pygments_lexer": "ipython3",
      "version": "3.8.3"
    },
    "colab": {
      "name": "Day-9-Assignment-B7.ipynb",
      "provenance": [],
      "collapsed_sections": []
    }
  },
  "cells": [
    {
      "cell_type": "markdown",
      "metadata": {
        "id": "BsV3V7CLb7Oc",
        "colab_type": "text"
      },
      "source": [
        "# Unit Testing\n"
      ]
    },
    {
      "cell_type": "code",
      "metadata": {
        "id": "aw6jVb9_b7Oh",
        "colab_type": "code",
        "colab": {
          "base_uri": "https://localhost:8080/",
          "height": 201
        },
        "outputId": "23a60aec-fe43-426b-c4d8-77951f3a55f3"
      },
      "source": [
        "! pip install pylint"
      ],
      "execution_count": 1,
      "outputs": [
        {
          "output_type": "stream",
          "text": [
            "Requirement already satisfied: pylint in /usr/local/lib/python3.6/dist-packages (2.6.0)\n",
            "Requirement already satisfied: isort<6,>=4.2.5 in /usr/local/lib/python3.6/dist-packages (from pylint) (5.5.2)\n",
            "Requirement already satisfied: mccabe<0.7,>=0.6 in /usr/local/lib/python3.6/dist-packages (from pylint) (0.6.1)\n",
            "Requirement already satisfied: astroid<=2.5,>=2.4.0 in /usr/local/lib/python3.6/dist-packages (from pylint) (2.4.2)\n",
            "Requirement already satisfied: toml>=0.7.1 in /usr/local/lib/python3.6/dist-packages (from pylint) (0.10.1)\n",
            "Requirement already satisfied: lazy-object-proxy==1.4.* in /usr/local/lib/python3.6/dist-packages (from astroid<=2.5,>=2.4.0->pylint) (1.4.3)\n",
            "Requirement already satisfied: typed-ast<1.5,>=1.4.0; implementation_name == \"cpython\" and python_version < \"3.8\" in /usr/local/lib/python3.6/dist-packages (from astroid<=2.5,>=2.4.0->pylint) (1.4.1)\n",
            "Requirement already satisfied: wrapt~=1.11 in /usr/local/lib/python3.6/dist-packages (from astroid<=2.5,>=2.4.0->pylint) (1.12.1)\n",
            "Requirement already satisfied: six~=1.12 in /usr/local/lib/python3.6/dist-packages (from astroid<=2.5,>=2.4.0->pylint) (1.15.0)\n"
          ],
          "name": "stdout"
        }
      ]
    },
    {
      "cell_type": "code",
      "metadata": {
        "id": "7FpkX1RIb7O5",
        "colab_type": "code",
        "colab": {
          "base_uri": "https://localhost:8080/",
          "height": 108
        },
        "outputId": "a0ace259-04d0-46d8-a073-0be843474551"
      },
      "source": [
        "! pip install unittest2"
      ],
      "execution_count": 2,
      "outputs": [
        {
          "output_type": "stream",
          "text": [
            "Requirement already satisfied: unittest2 in /usr/local/lib/python3.6/dist-packages (1.1.0)\n",
            "Requirement already satisfied: traceback2 in /usr/local/lib/python3.6/dist-packages (from unittest2) (1.4.0)\n",
            "Requirement already satisfied: argparse in /usr/local/lib/python3.6/dist-packages (from unittest2) (1.4.0)\n",
            "Requirement already satisfied: six>=1.4 in /usr/local/lib/python3.6/dist-packages (from unittest2) (1.15.0)\n",
            "Requirement already satisfied: linecache2 in /usr/local/lib/python3.6/dist-packages (from traceback2->unittest2) (1.0.0)\n"
          ],
          "name": "stdout"
        }
      ]
    },
    {
      "cell_type": "code",
      "metadata": {
        "id": "_zAOPhdgb7PI",
        "colab_type": "code",
        "colab": {}
      },
      "source": [
        "! pip install unittest"
      ],
      "execution_count": null,
      "outputs": []
    },
    {
      "cell_type": "markdown",
      "metadata": {
        "id": "zJl0M1B9b7PT",
        "colab_type": "text"
      },
      "source": [
        "Write a python Function for finding is a given number prime or not and do Unit Testing on it using\n",
        "PyLint and Unittest Library.\n",
        "# PyLint"
      ]
    },
    {
      "cell_type": "code",
      "metadata": {
        "id": "19mWf2mYb7PV",
        "colab_type": "code",
        "colab": {
          "base_uri": "https://localhost:8080/",
          "height": 35
        },
        "outputId": "4a71529c-212e-4196-a330-a13f93e33696"
      },
      "source": [
        "%%writefile check_prime_number.py\n",
        "'''\n",
        "This is a module to check whether the given number is prime or not''\n",
        "'''\n",
        "def prime(num):\n",
        "    '''\n",
        "    Prime number function\n",
        "    '''\n",
        "    if num > 1:\n",
        "        for i in range(2, num):\n",
        "            if (num % i) == 0:\n",
        "                break\n",
        "            return print(\"It is a Prime Number\")\n",
        "    return print(\"It is not a Prime Number\")\n",
        "n = int(input(\"enter the number :\"))\n",
        "print()\n",
        "prime(n)"
      ],
      "execution_count": 28,
      "outputs": [
        {
          "output_type": "stream",
          "text": [
            "Overwriting check_prime_number.py\n"
          ],
          "name": "stdout"
        }
      ]
    },
    {
      "cell_type": "code",
      "metadata": {
        "id": "pk0D1EWGb7Pe",
        "colab_type": "code",
        "colab": {
          "base_uri": "https://localhost:8080/",
          "height": 126
        },
        "outputId": "2eb2c6a8-90eb-4caf-d40f-d4363f944602"
      },
      "source": [
        "! pylint \"check_prime_number.py\""
      ],
      "execution_count": 27,
      "outputs": [
        {
          "output_type": "stream",
          "text": [
            "************* Module check_prime_number\n",
            "check_prime_number.py:16:0: C0304: Final newline missing (missing-final-newline)\n",
            "\n",
            "------------------------------------------------------------------\n",
            "Your code has been rated at 9.00/10 (previous run: 9.00/10, +0.00)\n",
            "\n"
          ],
          "name": "stdout"
        }
      ]
    },
    {
      "cell_type": "markdown",
      "metadata": {
        "id": "b5k2QgBHb7Pm",
        "colab_type": "text"
      },
      "source": [
        "# Unittest"
      ]
    },
    {
      "cell_type": "code",
      "metadata": {
        "id": "INhbtKoRb7Pn",
        "colab_type": "code",
        "colab": {
          "base_uri": "https://localhost:8080/",
          "height": 35
        },
        "outputId": "8a70bdd4-0f29-47ab-9088-d27a911d24c4"
      },
      "source": [
        "%%writefile capitalizeText.py\n",
        "\n",
        "def capText(string_To_Cap):\n",
        "    return string_To_Cap.title()"
      ],
      "execution_count": 29,
      "outputs": [
        {
          "output_type": "stream",
          "text": [
            "Writing capitalizeText.py\n"
          ],
          "name": "stdout"
        }
      ]
    },
    {
      "cell_type": "code",
      "metadata": {
        "id": "Nx99qVb1b7Pu",
        "colab_type": "code",
        "colab": {
          "base_uri": "https://localhost:8080/",
          "height": 35
        },
        "outputId": "e09433d3-9c7e-4c8c-ad4b-58880a73a841"
      },
      "source": [
        "%%writefile test.py\n",
        "'''\n",
        "this is the test file in which we are going to check out the py file with the help of unittest\n",
        "'''\n",
        "import unittest\n",
        "import capitalizeText\n",
        "\n",
        "class testPrimeNumber(unittest.TestCase):\n",
        "    def testOne(self):\n",
        "        result = capitalizeText.capText(\"anmol noor\")\n",
        "        self.assertEqual(result,\"Anmol Noor\") \n",
        "    def testSecond(self):\n",
        "        result = capitalizeText.capText(\"this is a text string to test the unittest on a file\")\n",
        "        self.assertEqual(result,\"This Is A Text String To Test The Unittest On A File\")\n",
        "        \n",
        "if __name__ == \"__main__\":\n",
        "    unittest.main()"
      ],
      "execution_count": 30,
      "outputs": [
        {
          "output_type": "stream",
          "text": [
            "Writing test.py\n"
          ],
          "name": "stdout"
        }
      ]
    },
    {
      "cell_type": "code",
      "metadata": {
        "id": "CWdVjGqab7Py",
        "colab_type": "code",
        "colab": {
          "base_uri": "https://localhost:8080/",
          "height": 108
        },
        "outputId": "49457d7c-cf90-4879-8c27-35ac4d93b32b"
      },
      "source": [
        "! python test.py"
      ],
      "execution_count": 31,
      "outputs": [
        {
          "output_type": "stream",
          "text": [
            "..\n",
            "----------------------------------------------------------------------\n",
            "Ran 2 tests in 0.000s\n",
            "\n",
            "OK\n"
          ],
          "name": "stdout"
        }
      ]
    },
    {
      "cell_type": "code",
      "metadata": {
        "id": "1KUgVjmhb7QK",
        "colab_type": "code",
        "colab": {}
      },
      "source": [
        "\n",
        "\n"
      ],
      "execution_count": null,
      "outputs": []
    },
    {
      "cell_type": "markdown",
      "metadata": {
        "id": "91sUfctKb7QU",
        "colab_type": "text"
      },
      "source": [
        "# Make a small generator program for returning armstrong numbers in between 1-1000 in a generator object.\n"
      ]
    },
    {
      "cell_type": "code",
      "metadata": {
        "id": "x6NjdqCOb7QW",
        "colab_type": "code",
        "colab": {}
      },
      "source": [
        "def armstrong(num):\n",
        "    for x in range(1,num):\n",
        "        if x>10:\n",
        "            order = len(str(x))\n",
        "            sum = 0\n",
        "\n",
        "            temp = x\n",
        "            while temp > 0:\n",
        "                digit = temp % 10\n",
        "                sum += digit ** order\n",
        "                temp //= 10\n",
        "\n",
        "            if x == sum:\n",
        "                yield print(\"The First Armstrong Nubmer is : \", x)\n",
        "\n"
      ],
      "execution_count": 32,
      "outputs": []
    },
    {
      "cell_type": "code",
      "metadata": {
        "id": "Jgb6vOOub7Qg",
        "colab_type": "code",
        "colab": {
          "base_uri": "https://localhost:8080/",
          "height": 90
        },
        "outputId": "b5387bfb-abac-47b1-f2a9-f33099f1bace"
      },
      "source": [
        "lst = list(armstrong(1000))"
      ],
      "execution_count": 33,
      "outputs": [
        {
          "output_type": "stream",
          "text": [
            "The First Armstrong Nubmer is :  153\n",
            "The First Armstrong Nubmer is :  370\n",
            "The First Armstrong Nubmer is :  371\n",
            "The First Armstrong Nubmer is :  407\n"
          ],
          "name": "stdout"
        }
      ]
    },
    {
      "cell_type": "code",
      "metadata": {
        "id": "nauydPvvb7Qo",
        "colab_type": "code",
        "colab": {}
      },
      "source": [
        ""
      ],
      "execution_count": null,
      "outputs": []
    },
    {
      "cell_type": "code",
      "metadata": {
        "id": "uHX3GtvJb7Qw",
        "colab_type": "code",
        "colab": {}
      },
      "source": [
        ""
      ],
      "execution_count": null,
      "outputs": []
    }
  ]
}