{
  "nbformat": 4,
  "nbformat_minor": 0,
  "metadata": {
    "kernelspec": {
      "display_name": "Python 3",
      "language": "python",
      "name": "python3"
    },
    "language_info": {
      "codemirror_mode": {
        "name": "ipython",
        "version": 3
      },
      "file_extension": ".py",
      "mimetype": "text/x-python",
      "name": "python",
      "nbconvert_exporter": "python",
      "pygments_lexer": "ipython3",
      "version": "3.8.3"
    },
    "colab": {
      "name": "Day-8-Assignment-B7.ipynb",
      "provenance": []
    }
  },
  "cells": [
    {
      "cell_type": "markdown",
      "metadata": {
        "id": "JxUxijViXLGX",
        "colab_type": "text"
      },
      "source": [
        "# Assignment - Day - 8 :-"
      ]
    },
    {
      "cell_type": "markdown",
      "metadata": {
        "id": "1EicTWEGXLGb",
        "colab_type": "text"
      },
      "source": [
        "# decorator"
      ]
    },
    {
      "cell_type": "code",
      "metadata": {
        "id": "MKDZeNbVXLGf",
        "colab_type": "code",
        "colab": {}
      },
      "source": [
        "arr = []"
      ],
      "execution_count": 1,
      "outputs": []
    },
    {
      "cell_type": "code",
      "metadata": {
        "id": "OyhcUB3gXLGx",
        "colab_type": "code",
        "colab": {}
      },
      "source": [
        "def getInput(calculate):\n",
        "    def wrap_function():\n",
        "        print(\"Enter two numbers =\")\n",
        "        a = int(input(\"Enter your lower limit - \"))\n",
        "        b = int(input(\"Enter your upper limit - \"))\n",
        "        for i in range(a,b):\n",
        "            calculate(i)   \n",
        "    return wrap_function\n"
      ],
      "execution_count": 2,
      "outputs": []
    },
    {
      "cell_type": "code",
      "metadata": {
        "id": "v7NI2U3rXLG7",
        "colab_type": "code",
        "colab": {}
      },
      "source": [
        "\n",
        "@getInput\n",
        "def prime(num):\n",
        "    check = 0\n",
        "    for y in range(2,num):\n",
        "        if num%y == 0 :\n",
        "            check+=1\n",
        "    if check==0 and num != 1:\n",
        "        arr.append(num)\n",
        "        "
      ],
      "execution_count": 3,
      "outputs": []
    },
    {
      "cell_type": "code",
      "metadata": {
        "id": "ViuRDYpXXLHH",
        "colab_type": "code",
        "colab": {
          "base_uri": "https://localhost:8080/",
          "height": 72
        },
        "outputId": "d6d4391c-5b08-463f-e6b6-ddee7a0c3b1c"
      },
      "source": [
        "prime()"
      ],
      "execution_count": 4,
      "outputs": [
        {
          "output_type": "stream",
          "text": [
            "Enter two numbers =\n",
            "Enter your lower limit - 1\n",
            "Enter your upper limit - 100\n"
          ],
          "name": "stdout"
        }
      ]
    },
    {
      "cell_type": "code",
      "metadata": {
        "id": "TZsySpJHXLHR",
        "colab_type": "code",
        "colab": {
          "base_uri": "https://localhost:8080/",
          "height": 35
        },
        "outputId": "1d4a6b79-48b2-4207-ff90-aaf05634b14a"
      },
      "source": [
        "print(arr)"
      ],
      "execution_count": 5,
      "outputs": [
        {
          "output_type": "stream",
          "text": [
            "[2, 3, 5, 7, 11, 13, 17, 19, 23, 29, 31, 37, 41, 43, 47, 53, 59, 61, 67, 71, 73, 79, 83, 89, 97]\n"
          ],
          "name": "stdout"
        }
      ]
    },
    {
      "cell_type": "code",
      "metadata": {
        "id": "ZsrXYN4zXLHZ",
        "colab_type": "code",
        "colab": {}
      },
      "source": [
        ""
      ],
      "execution_count": 5,
      "outputs": []
    },
    {
      "cell_type": "markdown",
      "metadata": {
        "id": "he03e5oTXLHg",
        "colab_type": "text"
      },
      "source": [
        "# Exception Handling"
      ]
    },
    {
      "cell_type": "code",
      "metadata": {
        "id": "IFY5MRjvXLHi",
        "colab_type": "code",
        "colab": {
          "base_uri": "https://localhost:8080/",
          "height": 35
        },
        "outputId": "c9293b41-2a5e-4265-f2d8-7b91b7fb3bc8"
      },
      "source": [
        "%%writefile test.txt\n",
        "\n",
        "This is some RANDOM text in this text file."
      ],
      "execution_count": 9,
      "outputs": [
        {
          "output_type": "stream",
          "text": [
            "Overwriting test.txt\n"
          ],
          "name": "stdout"
        }
      ]
    },
    {
      "cell_type": "code",
      "metadata": {
        "id": "JqIqJiLmXLHn",
        "colab_type": "code",
        "colab": {
          "base_uri": "https://localhost:8080/",
          "height": 36
        },
        "outputId": "2b234e3a-f223-4470-fbee-0b4d2cc7ebd1"
      },
      "source": [
        "f = open(\"test.txt\",'r')\n",
        "f.read()"
      ],
      "execution_count": 10,
      "outputs": [
        {
          "output_type": "execute_result",
          "data": {
            "application/vnd.google.colaboratory.intrinsic+json": {
              "type": "string"
            },
            "text/plain": [
              "'\\nThis is some RANDOM text in this text file.'"
            ]
          },
          "metadata": {
            "tags": []
          },
          "execution_count": 10
        }
      ]
    },
    {
      "cell_type": "code",
      "metadata": {
        "id": "S4LmmIFRXLHu",
        "colab_type": "code",
        "colab": {
          "base_uri": "https://localhost:8080/",
          "height": 35
        },
        "outputId": "ba7b9fcc-184f-45a0-d0a1-e43a79be38dd"
      },
      "source": [
        "try:\n",
        "    f.write(\"my first file\\n\")\n",
        "except:\n",
        "    print(\"unable to write to file check read mode\")\n",
        "finally:\n",
        "    f.close()"
      ],
      "execution_count": 12,
      "outputs": [
        {
          "output_type": "stream",
          "text": [
            "unable to write to file check read mode\n"
          ],
          "name": "stdout"
        }
      ]
    },
    {
      "cell_type": "code",
      "metadata": {
        "id": "-xCm8bN8XLHz",
        "colab_type": "code",
        "colab": {}
      },
      "source": [
        ""
      ],
      "execution_count": 8,
      "outputs": []
    }
  ]
}